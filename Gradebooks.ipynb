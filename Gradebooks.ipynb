{
 "cells": [
  {
   "cell_type": "code",
   "execution_count": 1,
   "id": "365b7655",
   "metadata": {},
   "outputs": [],
   "source": [
    "# 1. 리스트 \"subjects\" 생성\n",
    "subjects = [\"physics\", \"calculus\", \"poetry\", \"history\"]\n",
    "\n",
    "# 2. 리스트 \"grades\" 생성\n",
    "grades = [98, 97, 85, 88]\n",
    "\n",
    "# 3. 2차원 리스트 \"gradebook\" 생성\n",
    "gradebook = [[\"physics\", 98], [\"calculus\", 97], [\"poetry\", 85], [\"history\", 88]]"
   ]
  },
  {
   "cell_type": "code",
   "execution_count": 2,
   "id": "66c03c38",
   "metadata": {},
   "outputs": [
    {
     "name": "stdout",
     "output_type": "stream",
     "text": [
      "[['physics', 98], ['calculus', 97], ['poetry', 85], ['history', 88]]\n"
     ]
    }
   ],
   "source": [
    "# 4. gradebook 출력\n",
    "print(gradebook)"
   ]
  },
  {
   "cell_type": "code",
   "execution_count": 3,
   "id": "a5c3f66f",
   "metadata": {},
   "outputs": [],
   "source": [
    "# 5. \"computer science\" 과목과 100점 추가\n",
    "gradebook.append([\"computer science\", 100])\n",
    "\n",
    "# 6. \"visual arts\" 과목과 93점 추가\n",
    "gradebook.append([\"visual arts\", 93])\n",
    "\n",
    "# 7. \"visual arts\" 점수 5점 증가 (93 -> 98)\n",
    "gradebook[5][1] += 5"
   ]
  },
  {
   "cell_type": "code",
   "execution_count": 4,
   "id": "641202a2",
   "metadata": {},
   "outputs": [],
   "source": [
    "# 8. \"poetry\" 과목의 점수를 \"Pass\"로 변경\n",
    "for subject in gradebook:\n",
    "    if subject[0] == \"poetry\":\n",
    "        subject[1] = \"Pass\""
   ]
  },
  {
   "cell_type": "code",
   "execution_count": 5,
   "id": "abc70f08",
   "metadata": {},
   "outputs": [
    {
     "name": "stdout",
     "output_type": "stream",
     "text": [
      "[['physics', 98], ['calculus', 97], ['poetry', 'Pass'], ['history', 88], ['computer science', 100], ['visual arts', 98]]\n"
     ]
    }
   ],
   "source": [
    "# 9. gradebook 출력\n",
    "print(gradebook)"
   ]
  },
  {
   "cell_type": "code",
   "execution_count": 6,
   "id": "fd2b8d07",
   "metadata": {},
   "outputs": [],
   "source": [
    "# 10. 지난 학기의 성적\n",
    "last_semester_gradebook = [[\"politics\", 80], [\"latin\", 96], [\"dance\", 97], [\"architecture\", 65]]\n",
    "\n",
    "# 11. 전체 성적 리스트 합치기\n",
    "full_gradebook = last_semester_gradebook + gradebook"
   ]
  },
  {
   "cell_type": "code",
   "execution_count": 7,
   "id": "ad05804d",
   "metadata": {},
   "outputs": [
    {
     "name": "stdout",
     "output_type": "stream",
     "text": [
      "[['politics', 80], ['latin', 96], ['dance', 97], ['architecture', 65], ['physics', 98], ['calculus', 97], ['poetry', 'Pass'], ['history', 88], ['computer science', 100], ['visual arts', 98]]\n"
     ]
    }
   ],
   "source": [
    "# 12. 전체 성적 리스트 출력\n",
    "print(full_gradebook)"
   ]
  }
 ],
 "metadata": {
  "kernelspec": {
   "display_name": "Python 3 (ipykernel)",
   "language": "python",
   "name": "python3"
  },
  "language_info": {
   "codemirror_mode": {
    "name": "ipython",
    "version": 3
   },
   "file_extension": ".py",
   "mimetype": "text/x-python",
   "name": "python",
   "nbconvert_exporter": "python",
   "pygments_lexer": "ipython3",
   "version": "3.10.9"
  }
 },
 "nbformat": 4,
 "nbformat_minor": 5
}

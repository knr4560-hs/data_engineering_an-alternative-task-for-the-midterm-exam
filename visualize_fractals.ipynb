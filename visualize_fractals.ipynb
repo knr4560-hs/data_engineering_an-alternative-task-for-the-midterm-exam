{
 "cells": [
  {
   "cell_type": "code",
   "execution_count": 2,
   "id": "c22dd7c3",
   "metadata": {},
   "outputs": [],
   "source": [
    "import numpy as np  \n",
    "import matplotlib.pyplot as plt  \n",
    "from mpl_toolkits.axes_grid1 import make_axes_locatable"
   ]
  },
  {
   "cell_type": "code",
   "execution_count": 3,
   "id": "631a708d",
   "metadata": {},
   "outputs": [
    {
     "data": {
      "text/plain": [
       "<contextlib.ExitStack at 0x7fbe19cb3b80>"
      ]
     },
     "execution_count": 3,
     "metadata": {},
     "output_type": "execute_result"
    }
   ],
   "source": [
    "%matplotlib qt5\n",
    "%config InlineBackend.figure_format = 'svg'\n",
    "\n",
    "plt.rcParams['figure.figsize'] = [12, 5]\n",
    "plt.rcParams['font.size'] = 13\n",
    "plt.ion()"
   ]
  },
  {
   "cell_type": "code",
   "execution_count": 4,
   "id": "dac3bd66",
   "metadata": {},
   "outputs": [],
   "source": [
    "# 2. 복소수 함수 정의\n",
    "def f(z):\n",
    "    return np.square(z) - 1"
   ]
  },
  {
   "cell_type": "code",
   "execution_count": 5,
   "id": "478574e9",
   "metadata": {},
   "outputs": [
    {
     "name": "stdout",
     "output_type": "stream",
     "text": [
      "-1\n"
     ]
    }
   ],
   "source": [
    "# 3. 함수 테스트: f(0) 계산\n",
    "print(f(0))  # 예상 출력: (-1+0j)"
   ]
  },
  {
   "cell_type": "code",
   "execution_count": 6,
   "id": "b453d881",
   "metadata": {},
   "outputs": [],
   "source": [
    "# 4. 복소수 리스트에 대해 함수 f(z) 적용\n",
    "z = np.array([4, 1 - 0.2j, 1.6])  # 4, 1-0.2j, 1.6 복소수 리스트\n",
    "result = f(z)"
   ]
  },
  {
   "cell_type": "code",
   "execution_count": 7,
   "id": "e82a1228",
   "metadata": {},
   "outputs": [
    {
     "name": "stdout",
     "output_type": "stream",
     "text": [
      "입력값: [4. +0.j  1. -0.2j 1.6+0.j ]\n",
      "결과값: [15.  +0.j  -0.04-0.4j  1.56+0.j ]\n"
     ]
    }
   ],
   "source": [
    "# 5. 결과 출력\n",
    "print(\"입력값:\", z)\n",
    "print(\"결과값:\", result)"
   ]
  },
  {
   "cell_type": "code",
   "execution_count": 8,
   "id": "154233b3",
   "metadata": {},
   "outputs": [
    {
     "name": "stdout",
     "output_type": "stream",
     "text": [
      "입력값 (4+0j)에 대한 출력: (15+0j)\n",
      "입력값 (1-0.2j)에 대한 출력: (-0.040000000000000036-0.4j)\n",
      "입력값 (1.6+0j)에 대한 출력: (1.5600000000000005+0j)\n"
     ]
    }
   ],
   "source": [
    "# 6. 결과 해석\n",
    "for z_val, result_val in zip(z, result):\n",
    "    print(f\"입력값 {z_val}에 대한 출력: {result_val}\")"
   ]
  },
  {
   "cell_type": "code",
   "execution_count": 9,
   "id": "f143a842",
   "metadata": {},
   "outputs": [],
   "source": [
    "# 3. 복소수 집합 생성\n",
    "# x축과 y축 값을 -10에서 10 사이에서 균일한 간격으로 20개의 값으로 생성\n",
    "x, y = np.meshgrid(np.linspace(-10, 10, 20), np.linspace(-10, 10, 20))"
   ]
  },
  {
   "cell_type": "code",
   "execution_count": 10,
   "id": "7a3538e2",
   "metadata": {},
   "outputs": [],
   "source": [
    "# 복소수 집합 생성: 실수부 x와 허수부 y를 이용하여 복소수 mesh를 만듦\n",
    "mesh = x + 1j * y"
   ]
  },
  {
   "cell_type": "code",
   "execution_count": 11,
   "id": "1b634d10",
   "metadata": {},
   "outputs": [],
   "source": [
    "# 4. 함수 f(z)를 한 번 적용하여 결과를 절대값으로 계산\n",
    "output = np.abs(f(mesh))"
   ]
  },
  {
   "cell_type": "code",
   "execution_count": 12,
   "id": "d0e054db",
   "metadata": {},
   "outputs": [
    {
     "data": {
      "text/plain": [
       "Text(0.5, 0.92, 'One Iteration: $f(z) = z^2 - 1$')"
      ]
     },
     "execution_count": 12,
     "metadata": {},
     "output_type": "execute_result"
    }
   ],
   "source": [
    "# 5. 3D 산점도로 한 번 적용한 결과 시각화\n",
    "fig = plt.figure()\n",
    "ax = fig.add_subplot(111, projection='3d')\n",
    "\n",
    "# 산점도 그리기\n",
    "ax.scatter(x, y, output, alpha=0.5)\n",
    "\n",
    "# 레이블과 제목 설정\n",
    "ax.set_xlabel('Real axis')      # 실수부\n",
    "ax.set_ylabel('Imaginary axis') # 허수부\n",
    "ax.set_zlabel('Absolute value') # 함수값의 절대값\n",
    "ax.set_title('One Iteration: $f(z) = z^2 - 1$')"
   ]
  },
  {
   "cell_type": "code",
   "execution_count": 13,
   "id": "2c736371",
   "metadata": {},
   "outputs": [
    {
     "data": {
      "text/plain": [
       "Text(0.5, 0.92, 'Two Iterations: $f(z) = z^2 - 1$')"
      ]
     },
     "execution_count": 13,
     "metadata": {},
     "output_type": "execute_result"
    }
   ],
   "source": [
    "# 6. 두 번의 함수 반복 적용\n",
    "output = np.abs(f(f(mesh)))\n",
    "\n",
    "# 7. 3D 산점도로 두 번 적용한 결과 시각화\n",
    "fig = plt.figure()\n",
    "ax = fig.add_subplot(111, projection='3d')\n",
    "\n",
    "# 산점도 그리기\n",
    "ax.scatter(x, y, output, alpha=0.5)\n",
    "\n",
    "# 레이블과 제목 설정\n",
    "ax.set_xlabel('Real axis')      # 실수부\n",
    "ax.set_ylabel('Imaginary axis') # 허수부\n",
    "ax.set_zlabel('Absolute value') # 함수값의 절대값\n",
    "ax.set_title('Two Iterations: $f(z) = z^2 - 1$')"
   ]
  },
  {
   "cell_type": "code",
   "execution_count": 13,
   "id": "1d6ab97f",
   "metadata": {},
   "outputs": [],
   "source": [
    "# 8. 결과 출력\n",
    "plt.show()"
   ]
  },
  {
   "cell_type": "code",
   "execution_count": 14,
   "id": "bc41e778",
   "metadata": {},
   "outputs": [
    {
     "data": {
      "text/plain": [
       "<matplotlib.colorbar.Colorbar at 0x7fbe1bbffdf0>"
      ]
     },
     "execution_count": 14,
     "metadata": {},
     "output_type": "execute_result"
    }
   ],
   "source": [
    "# 3. 유사한 값들 선택\n",
    "selected_values = np.array([0.4 + 0.4j, 0.41 + 0.4j, 0.4 + 0.41j])\n",
    "num_iter = 9  # 반복 횟수\n",
    "\n",
    "# 4. 출력 배열 초기화\n",
    "outputs = np.zeros(\n",
    "    (num_iter + 1, selected_values.shape[0]),  # 10X3 Zero 배열 생성\n",
    "    dtype=complex  # 데이터 타입: 복소수\n",
    ")\n",
    "outputs[0] = selected_values   # 함수 초기 조건\n",
    "\n",
    "# 5. 함수 반복 적용 및 저장\n",
    "for i in range(num_iter):\n",
    "    outputs[i + 1] = f(outputs[i])  # 10번 함수 반복하는 동안 각 결과를 저장\n",
    "\n",
    "# 6. 각 복소수에 대해 반복 적용을 시각화\n",
    "fig, axes = plt.subplots(1, selected_values.shape[0], figsize=(16, 6))\n",
    "axes[1].set_xlabel('Real axis')\n",
    "axes[0].set_ylabel('Imaginary axis')\n",
    "\n",
    "for ax, data in zip(axes, outputs.T):\n",
    "    cycle = ax.scatter(\n",
    "        data.real,  # 실수부\n",
    "        data.imag,  # 허수부\n",
    "        c=range(data.shape[0]),  # 반복 횟수를 색으로 표시\n",
    "        alpha=0.6\n",
    "    )\n",
    "    ax.set_title(f'Mapping of iterations on {data[0]}')\n",
    "\n",
    "fig.colorbar(cycle, ax=axes, location='bottom', label='Iteration')"
   ]
  },
  {
   "cell_type": "code",
   "execution_count": 15,
   "id": "a9c2f066",
   "metadata": {},
   "outputs": [
    {
     "name": "stdout",
     "output_type": "stream",
     "text": [
      "Iterations before divergence (threshold > 2):\n",
      "[ 8.  7. 11.]\n"
     ]
    }
   ],
   "source": [
    "# 7. 반경(radius)을 초과하면 반복을 중지하는 방식으로 변경\n",
    "radius_threshold = 2  # 반경 임계값\n",
    "max_iter = 100  # 최대 반복 횟수\n",
    "\n",
    "# 8. 반복 횟수 추적 배열 초기화\n",
    "iteration_counts = np.zeros(selected_values.shape[0])\n",
    "\n",
    "# 9. 반복 횟수 계산\n",
    "for i, val in enumerate(selected_values):\n",
    "    z = val\n",
    "    for j in range(max_iter):\n",
    "        if np.abs(z) > radius_threshold:  # 임계값을 초과하면 반복 중지\n",
    "            iteration_counts[i] = j\n",
    "            break\n",
    "        z = f(z)\n",
    "\n",
    "print(f\"Iterations before divergence (threshold > {radius_threshold}):\")\n",
    "print(iteration_counts)"
   ]
  },
  {
   "cell_type": "code",
   "execution_count": 16,
   "id": "632c7a80",
   "metadata": {},
   "outputs": [],
   "source": [
    "def divergence_rate(mesh, num_iter=10, radius=2):\n",
    "    z = mesh.copy()  # 복소수 그리드 복사\n",
    "    diverge_len = np.zeros(mesh.shape)  # 발산 전 반복 횟수를 저장할 배열\n",
    "    \n",
    "    # 함수 반복 적용\n",
    "    for i in range(num_iter):\n",
    "        # [+] 1. Boolean 배열 마스크 생성: 절대값이 반경보다 작은 값들에 대해 True\n",
    "        conv_mask = np.abs(z) < radius\n",
    "        \n",
    "        # [+] 2. 해당 값들에 대한 diverge_len 값 증가\n",
    "        diverge_len[conv_mask] += 1\n",
    "        \n",
    "        # [+] 3. 해당 값들에 대해 함수 적용: f(z) = z^2 - 1\n",
    "        z[conv_mask] = z[conv_mask]**2 - 1\n",
    "\n",
    "    return diverge_len"
   ]
  },
  {
   "cell_type": "code",
   "execution_count": 17,
   "id": "ade4ebcf",
   "metadata": {},
   "outputs": [],
   "source": [
    "# 복소수 그리드 생성\n",
    "x, y = np.meshgrid(np.linspace(-2, 2, 400), np.linspace(-2, 2, 400))\n",
    "mesh = x + (1j * y)  # x + iy 형태의 복소수 그리드\n",
    "\n",
    "# 발산 전 반복 횟수 계산\n",
    "output = divergence_rate(mesh)\n",
    "\n",
    "# 시각화\n",
    "fig = plt.figure(figsize=(5, 5))\n",
    "ax = plt.axes()\n",
    "\n",
    "ax.set_title('$f(z) = z^2 - 1$')\n",
    "ax.set_xlabel('Real axis')\n",
    "ax.set_ylabel('Imaginary axis')\n",
    "\n",
    "# 발산 속도에 따른 이미지 출력\n",
    "im = ax.imshow(output, extent=[-2, 2, -2, 2])\n",
    "divider = make_axes_locatable(ax)\n",
    "cax = divider.append_axes('right', size='5%', pad=0.1)\n",
    "\n",
    "# 색상 바 추가\n",
    "plt.colorbar(im, cax=cax, label='Number of iterations')\n",
    "\n",
    "plt.show()"
   ]
  }
 ],
 "metadata": {
  "kernelspec": {
   "display_name": "Python 3 (ipykernel)",
   "language": "python",
   "name": "python3"
  },
  "language_info": {
   "codemirror_mode": {
    "name": "ipython",
    "version": 3
   },
   "file_extension": ".py",
   "mimetype": "text/x-python",
   "name": "python",
   "nbconvert_exporter": "python",
   "pygments_lexer": "ipython3",
   "version": "3.10.9"
  }
 },
 "nbformat": 4,
 "nbformat_minor": 5
}

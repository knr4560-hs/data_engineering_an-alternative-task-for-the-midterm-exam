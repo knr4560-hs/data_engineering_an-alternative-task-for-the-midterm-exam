{
 "cells": [
  {
   "cell_type": "code",
   "execution_count": 1,
   "id": "e2ba7139",
   "metadata": {},
   "outputs": [],
   "source": [
    "# 1. Hairstyles, Prices, and Last Week Data\n",
    "hairstyles = [\"bouffant\", \"pixie\", \"dreadlocks\", \"crew\", \"bowl\", \"bob\", \"mohawk\", \"flattop\"]\n",
    "prices = [30, 25, 40, 20, 20, 35, 50, 35]\n",
    "last_week = [2, 3, 5, 8, 4, 4, 6, 2]"
   ]
  },
  {
   "cell_type": "code",
   "execution_count": 2,
   "id": "ffa5acb2",
   "metadata": {},
   "outputs": [],
   "source": [
    "# 2. Calculate Average Price\n",
    "total_price = 0"
   ]
  },
  {
   "cell_type": "code",
   "execution_count": 3,
   "id": "0c419c58",
   "metadata": {},
   "outputs": [],
   "source": [
    "# 3. Loop through the prices list and sum up the total price\n",
    "for price in prices:\n",
    "    total_price += price"
   ]
  },
  {
   "cell_type": "code",
   "execution_count": 4,
   "id": "38a3d895",
   "metadata": {},
   "outputs": [],
   "source": [
    "# 4. Calculate the average price\n",
    "average_price = total_price / len(prices)"
   ]
  },
  {
   "cell_type": "code",
   "execution_count": 5,
   "id": "9997f89a",
   "metadata": {},
   "outputs": [
    {
     "name": "stdout",
     "output_type": "stream",
     "text": [
      "Average price is  31.875\n"
     ]
    }
   ],
   "source": [
    "# 5. Print the average price\n",
    "print(\"Average price is \", average_price)"
   ]
  },
  {
   "cell_type": "code",
   "execution_count": 6,
   "id": "08293236",
   "metadata": {},
   "outputs": [],
   "source": [
    "# 6. Carly wants to cut all prices by $5\n",
    "new_prices = [price - 5 for price in prices]"
   ]
  },
  {
   "cell_type": "code",
   "execution_count": 7,
   "id": "5e2ac5e7",
   "metadata": {},
   "outputs": [
    {
     "name": "stdout",
     "output_type": "stream",
     "text": [
      "[25, 20, 35, 15, 15, 30, 45, 30]\n"
     ]
    }
   ],
   "source": [
    "# 7. Print the new prices list\n",
    "print(new_prices)"
   ]
  },
  {
   "cell_type": "code",
   "execution_count": 8,
   "id": "2e9c2548",
   "metadata": {},
   "outputs": [],
   "source": [
    "# 8. Calculate the Total Revenue from last week\n",
    "total_revenue = 0\n",
    "\n",
    "# 9. Loop through all the hairstyles and calculate the revenue\n",
    "for i in range(len(hairstyles)):\n",
    "    total_revenue += prices[i] * last_week[i]"
   ]
  },
  {
   "cell_type": "code",
   "execution_count": 9,
   "id": "a813c557",
   "metadata": {},
   "outputs": [
    {
     "name": "stdout",
     "output_type": "stream",
     "text": [
      "Total revenue is  1085\n"
     ]
    }
   ],
   "source": [
    "# 10. Print the total revenue\n",
    "print(\"Total revenue is \", total_revenue)"
   ]
  },
  {
   "cell_type": "code",
   "execution_count": 10,
   "id": "f29679a8",
   "metadata": {},
   "outputs": [],
   "source": [
    "# 11. Calculate the Average Daily Revenue\n",
    "average_daily_revenue = total_revenue / 7"
   ]
  },
  {
   "cell_type": "code",
   "execution_count": 11,
   "id": "b83af24c",
   "metadata": {},
   "outputs": [
    {
     "name": "stdout",
     "output_type": "stream",
     "text": [
      "Average daily revenue is  155.0\n"
     ]
    }
   ],
   "source": [
    "# 12. Print the average daily revenue\n",
    "print(\"Average daily revenue is \", average_daily_revenue)"
   ]
  },
  {
   "cell_type": "code",
   "execution_count": 12,
   "id": "f5da83a0",
   "metadata": {},
   "outputs": [],
   "source": [
    "# 13. Find all cuts under $30 using list comprehension\n",
    "cuts_under_30 = [hairstyles[i] for i in range(len(new_prices)) if new_prices[i] < 30]"
   ]
  },
  {
   "cell_type": "code",
   "execution_count": 13,
   "id": "ea67a3e3",
   "metadata": {},
   "outputs": [
    {
     "name": "stdout",
     "output_type": "stream",
     "text": [
      "['bouffant', 'pixie', 'crew', 'bowl']\n"
     ]
    }
   ],
   "source": [
    "# 14. Print the cuts under $30\n",
    "print(cuts_under_30)"
   ]
  }
 ],
 "metadata": {
  "kernelspec": {
   "display_name": "Python 3 (ipykernel)",
   "language": "python",
   "name": "python3"
  },
  "language_info": {
   "codemirror_mode": {
    "name": "ipython",
    "version": 3
   },
   "file_extension": ".py",
   "mimetype": "text/x-python",
   "name": "python",
   "nbconvert_exporter": "python",
   "pygments_lexer": "ipython3",
   "version": "3.10.9"
  }
 },
 "nbformat": 4,
 "nbformat_minor": 5
}

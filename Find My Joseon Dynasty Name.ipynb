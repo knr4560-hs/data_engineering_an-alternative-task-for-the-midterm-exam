{
 "cells": [
  {
   "cell_type": "code",
   "execution_count": 1,
   "id": "047cc083",
   "metadata": {},
   "outputs": [],
   "source": [
    "# 1. 태어난 달에 해당되는 첫번째 글자를 구하기 위한 리스트\n",
    "first_name_list = ['쌍', '쇠', '복', '돌', '팽', '육', '쌍', '개', '칠', '갑', '삼', '방']"
   ]
  },
  {
   "cell_type": "code",
   "execution_count": 2,
   "id": "5b027549",
   "metadata": {},
   "outputs": [],
   "source": [
    "# 2. 태어난 날짜에 해당되는 두번째 글자를 구하기 위한 리스트\n",
    "second_name_list = ['봉', '구', '욕', '포', '똥', '삼', '식', '석', '놈', '님', '년', '돌', '단', '득', '방', \n",
    "                    '질', '장', '걸', '래', '룡', '동', '순', '자', '박', '창', '언', '것', '포', '만', '단', '국']"
   ]
  },
  {
   "cell_type": "code",
   "execution_count": 3,
   "id": "ec33e0b9",
   "metadata": {},
   "outputs": [],
   "source": [
    "# 3. 조선시대 이름을 구하는 함수 작성\n",
    "def get_my_chosun_name(family_name, month, day):\n",
    "    # 1. 태어난 달에 해당하는 첫 번째 글자 (month - 1로 인덱스 조정)\n",
    "    first_name = first_name_list[month - 1]\n",
    "    \n",
    "    # 2. 태어난 날짜에 해당하는 두 번째 글자 (day - 1로 인덱스 조정)\n",
    "    second_name = second_name_list[day - 1]\n",
    "    \n",
    "    # 3. 조선시대 이름 반환\n",
    "    return f\"당신의 조선시대 이름은 {family_name}{first_name}{second_name} 입니다.\""
   ]
  },
  {
   "cell_type": "code",
   "execution_count": 5,
   "id": "38d9e424",
   "metadata": {},
   "outputs": [
    {
     "name": "stdout",
     "output_type": "stream",
     "text": [
      "당신의 조선시대 이름은 박삼님 입니다.\n"
     ]
    }
   ],
   "source": [
    "# 4. 예시 실행\n",
    "print(get_my_chosun_name('박', 11, 10))"
   ]
  }
 ],
 "metadata": {
  "kernelspec": {
   "display_name": "Python 3 (ipykernel)",
   "language": "python",
   "name": "python3"
  },
  "language_info": {
   "codemirror_mode": {
    "name": "ipython",
    "version": 3
   },
   "file_extension": ".py",
   "mimetype": "text/x-python",
   "name": "python",
   "nbconvert_exporter": "python",
   "pygments_lexer": "ipython3",
   "version": "3.10.9"
  }
 },
 "nbformat": 4,
 "nbformat_minor": 5
}

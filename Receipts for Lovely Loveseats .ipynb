{
 "cells": [
  {
   "cell_type": "code",
   "execution_count": 1,
   "id": "4f5bfc21",
   "metadata": {},
   "outputs": [],
   "source": [
    "# 1. Lovely Loveseat 설명\n",
    "lovely_loveseat_description = \"Lovely Loveseat. Tufted polyester blend on wood. 32 inches high x 40 inches wide x 30 inches deep. Red or white.\"\n",
    "\n",
    "# 2. Lovely Loveseat 가격\n",
    "lovely_loveseat_price = 254.00"
   ]
  },
  {
   "cell_type": "code",
   "execution_count": 2,
   "id": "1e5b7478",
   "metadata": {},
   "outputs": [],
   "source": [
    "# 3. Stylish Settee 설명\n",
    "stylish_settee_description = \"Stylish Settee. Faux leather on birch. 29.50 inches high x 54.75 inches wide x 28 inches deep. Black.\"\n",
    "\n",
    "# 4. Stylish Settee 가격\n",
    "stylish_settee_price = 180.50"
   ]
  },
  {
   "cell_type": "code",
   "execution_count": 3,
   "id": "dfc49097",
   "metadata": {},
   "outputs": [],
   "source": [
    "# 5. Luxurious Lamp 설명\n",
    "luxurious_lamp_description = \"Luxurious Lamp. Glass and iron. 36 inches tall. Brown with cream shade.\"\n",
    "\n",
    "# 6. Luxurious Lamp 가격\n",
    "luxurious_lamp_price = 52.15"
   ]
  },
  {
   "cell_type": "code",
   "execution_count": 4,
   "id": "c29a5cbc",
   "metadata": {},
   "outputs": [],
   "source": [
    "# 7. 세금 설정\n",
    "sales_tax = 0.088"
   ]
  },
  {
   "cell_type": "code",
   "execution_count": 5,
   "id": "869fbd54",
   "metadata": {},
   "outputs": [],
   "source": [
    "# 8. 첫 번째 고객의 총 금액 초기화\n",
    "customer_one_total = 0\n",
    "\n",
    "# 9. 첫 번째 고객의 구매 항목 초기화\n",
    "customer_one_itemization = \"\""
   ]
  },
  {
   "cell_type": "code",
   "execution_count": 6,
   "id": "2bd1e822",
   "metadata": {},
   "outputs": [],
   "source": [
    "# 10. 첫 번째 고객이 Lovely Loveseat 구매\n",
    "customer_one_total += lovely_loveseat_price\n",
    "\n",
    "# 11. Lovely Loveseat 구매 내역 추가\n",
    "customer_one_itemization += lovely_loveseat_description"
   ]
  },
  {
   "cell_type": "code",
   "execution_count": 7,
   "id": "c77a2404",
   "metadata": {},
   "outputs": [],
   "source": [
    "# 12. 첫 번째 고객이 Luxurious Lamp 구매\n",
    "customer_one_total += luxurious_lamp_price\n",
    "\n",
    "# 13. Luxurious Lamp 구매 내역 추가\n",
    "customer_one_itemization += luxurious_lamp_description"
   ]
  },
  {
   "cell_type": "code",
   "execution_count": 8,
   "id": "bf410557",
   "metadata": {},
   "outputs": [],
   "source": [
    "# 14. 세금 계산\n",
    "customer_one_tax = customer_one_total * sales_tax\n",
    "\n",
    "# 15. 총 금액에 세금 추가\n",
    "customer_one_total += customer_one_tax"
   ]
  },
  {
   "cell_type": "code",
   "execution_count": 9,
   "id": "5a3505b1",
   "metadata": {},
   "outputs": [
    {
     "name": "stdout",
     "output_type": "stream",
     "text": [
      "Customer One Items:\n"
     ]
    }
   ],
   "source": [
    "# 16. 영수증 출력 시작\n",
    "print(\"Customer One Items:\")"
   ]
  },
  {
   "cell_type": "code",
   "execution_count": 10,
   "id": "d3d0e416",
   "metadata": {},
   "outputs": [
    {
     "name": "stdout",
     "output_type": "stream",
     "text": [
      "Lovely Loveseat. Tufted polyester blend on wood. 32 inches high x 40 inches wide x 30 inches deep. Red or white.Luxurious Lamp. Glass and iron. 36 inches tall. Brown with cream shade.\n"
     ]
    }
   ],
   "source": [
    "# 17. 고객의 구매 항목 출력\n",
    "print(customer_one_itemization)"
   ]
  },
  {
   "cell_type": "code",
   "execution_count": 11,
   "id": "36f54c1a",
   "metadata": {},
   "outputs": [
    {
     "name": "stdout",
     "output_type": "stream",
     "text": [
      "Customer One Total:\n"
     ]
    }
   ],
   "source": [
    "# 18. 총액 출력\n",
    "print(\"Customer One Total:\")"
   ]
  },
  {
   "cell_type": "code",
   "execution_count": 12,
   "id": "0b37440e",
   "metadata": {},
   "outputs": [
    {
     "name": "stdout",
     "output_type": "stream",
     "text": [
      "333.09119999999996\n"
     ]
    }
   ],
   "source": [
    "# 19. 총 금액 출력\n",
    "print(customer_one_total)"
   ]
  }
 ],
 "metadata": {
  "kernelspec": {
   "display_name": "Python 3 (ipykernel)",
   "language": "python",
   "name": "python3"
  },
  "language_info": {
   "codemirror_mode": {
    "name": "ipython",
    "version": 3
   },
   "file_extension": ".py",
   "mimetype": "text/x-python",
   "name": "python",
   "nbconvert_exporter": "python",
   "pygments_lexer": "ipython3",
   "version": "3.10.9"
  }
 },
 "nbformat": 4,
 "nbformat_minor": 5
}
